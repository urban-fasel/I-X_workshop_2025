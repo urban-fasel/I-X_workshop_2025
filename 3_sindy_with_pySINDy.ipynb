{
  "metadata": {
    "kernelspec": {
      "name": "python",
      "display_name": "Python (Pyodide)",
      "language": "python"
    },
    "language_info": {
      "codemirror_mode": {
        "name": "python",
        "version": 3
      },
      "file_extension": ".py",
      "mimetype": "text/x-python",
      "name": "python",
      "nbconvert_exporter": "python",
      "pygments_lexer": "ipython3",
      "version": "3.8"
    }
  },
  "nbformat_minor": 5,
  "nbformat": 4,
  "cells": [
    {
      "id": "1869c7af-e578-48fd-9a48-cc1587efd96b",
      "cell_type": "code",
      "source": "## 3. SINDy with the pySINDy Library\n\n# Import pySINDy and other necessary libraries\nimport pysindy as ps\nimport numpy as np\nfrom utils import plot_sindy_simulation\n\n# Load the data generated in the first notebook\ndata = np.load('lotka_volterra_data.npz')\nt = data['t']\nX = data['X']\n\n# Initialize the SINDy model\n# We specify the library of candidate functions\n# and the optimizer for sparse regression\npoly_library = ps.PolynomialLibrary(degree=2)\noptimizer = ps.STLSQ(threshold=0.1)\n\n# Create the SINDy object\nmodel = ps.SINDy(\n    optimizer=optimizer,\n    feature_library=poly_library,\n    differentiation_method=ps.SINDyDerivative(kind='finite_difference', order=2)\n)\n\n# Fit the model to the data\nmodel.fit(X, t=t)\n\n# Print the discovered equations\nmodel.print()\n\n# Simulate the discovered model and compare to the original data\nx_sim = model.simulate(X[0, :], t=t)\n\n# Plot the comparison using the helper function\nplot_sindy_simulation(t, X, x_sim, 'Comparison of Original Data and SINDy Model Simulation')\n\nprint(\"\\nModel fit and simulation complete. The SINDy model has successfully identified the governing equations from the data.\")",
      "metadata": {
        "trusted": true
      },
      "outputs": [],
      "execution_count": null
    }
  ]
}