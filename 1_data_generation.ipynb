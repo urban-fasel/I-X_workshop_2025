{
  "metadata": {
    "kernelspec": {
      "name": "python",
      "display_name": "Python (Pyodide)",
      "language": "python"
    },
    "language_info": {
      "codemirror_mode": {
        "name": "python",
        "version": 3
      },
      "file_extension": ".py",
      "mimetype": "text/x-python",
      "name": "python",
      "nbconvert_exporter": "python",
      "pygments_lexer": "ipython3",
      "version": "3.8"
    }
  },
  "nbformat_minor": 5,
  "nbformat": 4,
  "cells": [
    {
      "id": "0def2c9c-8afb-4d90-836f-26033ba80bc9",
      "cell_type": "code",
      "source": "## 1. Generating Data for a Dynamic System\n\n# Import necessary libraries\nimport numpy as np\nfrom scipy.integrate import solve_ivp\nfrom utils import plot_data\n\n# Define the Lotka-Volterra system equations\ndef lotka_volterra(t, z, a, b, c, d):\n    \"\"\"\n    z[0] = prey population (rabbits)\n    z[1] = predator population (foxes)\n    \"\"\"\n    x, y = z\n    dxdt = a * x - b * x * y\n    dydt = c * x * y - d * y\n    return [dxdt, dydt]\n\n# Define parameters\na, b, c, d = 1.5, 1.0, 3.0, 1.0\n\n# Set initial conditions and time span\nz0 = [10, 5] # [initial rabbits, initial foxes]\nt_span = (0, 20)\nt_eval = np.linspace(t_span[0], t_span[1], 1000)\n\n# Solve the differential equations\nsolution = solve_ivp(\n    fun=lotka_volterra,\n    t_span=t_span,\n    y0=z0,\n    args=(a, b, c, d),\n    dense_output=True,\n    t_eval=t_eval\n)\n\n# Extract and plot the data using the helper function\nX = solution.y.T\nt = solution.t\nplot_data(t, X, 'Lotka-Volterra Predator-Prey Dynamics')\n\n# Save the data for later use\nnp.savez('lotka_volterra_data.npz', t=t, X=X)\n\nprint(\"Data generation complete. Saved to lotka_volterra_data.npz\")",
      "metadata": {
        "trusted": true
      },
      "outputs": [],
      "execution_count": null
    }
  ]
}